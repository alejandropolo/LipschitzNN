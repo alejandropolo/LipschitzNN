{
 "cells": [
  {
   "cell_type": "markdown",
   "metadata": {},
   "source": [
    "## LIBRARIES"
   ]
  },
  {
   "cell_type": "code",
   "execution_count": 2,
   "metadata": {},
   "outputs": [],
   "source": [
    "import numpy as np\n",
    "import matplotlib.pyplot as plt"
   ]
  },
  {
   "cell_type": "markdown",
   "metadata": {},
   "source": [
    "## EXPLICACIÓN TEÓRICA"
   ]
  },
  {
   "cell_type": "markdown",
   "metadata": {},
   "source": [
    "**TEORÍA**\n",
    "\n",
    "Existen dos funciones que se pueden utilizar con numpy para poder realizar evaluaciones (contraciones) tensoriales y estas son einsum y tensordot. En ambos casos el funcionamiento es similar, se debe especificar bajo que ejes se quiere realizar la contracción. Por ejemplo, si tenemos un tensor $T = [2\\times 3 \\times4]$ y un vector $v = [1 \\times 3]$ podríamos considerar el producto tensorial $T \\otimes v$ y realizar la contracción por el eje j. Por lo tanto $T \\otimes _j v$ sería un elemento de $ [2\\times 4]$.\n",
    "\n",
    "Por último veamos un par de ejemplos de cálculo numérico para ver como nos quedan los resultados. Sea $$T =\\begin{bmatrix}\n",
    "    \\begin{bmatrix}\n",
    "        1 & 2 \\\\\n",
    "        3 & 4\n",
    "    \\end{bmatrix}\n",
    "    &\n",
    "    \\begin{bmatrix}\n",
    "        -1 & -2 \\\\\n",
    "        -3 & -4\n",
    "    \\end{bmatrix}\n",
    "\\end{bmatrix} $$\n",
    "y sea $v=[10,100]$. Entonces realizar la multiplicación tensorial por el eje i sería lo mismo que realizar $v \\otimes _i T$ (es decir colocar el vector v a lo largo del eje i)\n",
    "$$v \\otimes _i T = 10*\\begin{bmatrix}\n",
    "        1 & 2 \\\\\n",
    "        3 & 4\n",
    "    \\end{bmatrix} + 100*\\begin{bmatrix}\n",
    "        -1 & -2 \\\\\n",
    "        -3 & -4\n",
    "    \\end{bmatrix} = \\begin{bmatrix}\n",
    "        -90 & -180 \\\\\n",
    "        -270 & -360\n",
    "    \\end{bmatrix}$$\n",
    "\n",
    "Si por el contrario hacemos la multiplicación a lo largo del eje k tendríamos que:\n",
    "\n",
    "$$v \\otimes _k T = 10*\\begin{bmatrix}\n",
    "        1 & 3 \\\\\n",
    "        -1 & -3\n",
    "    \\end{bmatrix} + 100*\\begin{bmatrix}\n",
    "        2 & 4 \\\\\n",
    "        -2 & -4\n",
    "    \\end{bmatrix} = \\begin{bmatrix}\n",
    "        210 & 430 \\\\\n",
    "        -210 & -430\n",
    "    \\end{bmatrix}$$"
   ]
  },
  {
   "cell_type": "code",
   "execution_count": 8,
   "metadata": {},
   "outputs": [
    {
     "name": "stdout",
     "output_type": "stream",
     "text": [
      "tensor [[[ 1  2]\n",
      "  [ 3  4]]\n",
      "\n",
      " [[-1 -2]\n",
      "  [-3 -4]]]\n",
      "vector [[ 10 100]]\n",
      "Multiply along the i-axis using einsum \n",
      "\n",
      "[[[ -90 -180]\n",
      "  [-270 -360]]] \n",
      "\n",
      "Multiply along the j-axis using einsum\n",
      "\n",
      "[[[ 310  420]\n",
      "  [-310 -420]]] \n",
      "\n",
      "Multiply along the k-axis using einsum\n",
      "\n",
      "[[[ 210  430]\n",
      "  [-210 -430]]] \n",
      "\n",
      "-------- Usando Tensordot --------\n",
      "[[[ 210  430]\n",
      "  [-210 -430]]]\n"
     ]
    }
   ],
   "source": [
    "##https://medium.com/analytics-vidhya/tensordot-explained-6673cfa5697f\n",
    "\n",
    "\n",
    "\n",
    "import numpy as np\n",
    "\n",
    "# Create a tensor of shape (2, 2, 2)\n",
    "tensor = np.array([1,2,3,4,-1,-2,-3,-4]).reshape(2, 2, 2)\n",
    "print('tensor',tensor)\n",
    "\n",
    "# Create a vector of shape (1, 2)\n",
    "vector = np.array([10, 100]).reshape(1, 2)\n",
    "print('vector',vector)\n",
    "\n",
    "# Multiply along the i-axis using einsum\n",
    "print('Multiply along the i-axis using einsum \\n')\n",
    "result = np.einsum('ij,jkl->ikl', vector, tensor)\n",
    "print(result,'\\n')\n",
    "\n",
    "# Multiply along the j-axis using einsum\n",
    "print('Multiply along the j-axis using einsum\\n')\n",
    "result = np.einsum('ij,kjl->ikl', vector, tensor)\n",
    "print(result,'\\n')\n",
    "\n",
    "# Multiply along the k-axis using einsum\n",
    "print('Multiply along the k-axis using einsum\\n')\n",
    "result = np.einsum('ij,klj->ikl', vector, tensor)\n",
    "print(result,'\\n')\n",
    "\n",
    "### OTRA FORMA DE HACER LO MISMO\n",
    "\n",
    "# Given data\n",
    "print('-------- Usando Tensordot --------')\n",
    "vector = np.array([10, 100]).reshape(1, 2)\n",
    "tensor = np.array([1, 2, 3, 4, -1, -2, -3, -4]).reshape(2, 2, 2)\n",
    "# Multiply along the i-axis using tensordot ## Contrae el eje 1 con el eje 2\n",
    "result = np.tensordot(vector, tensor, axes=([1], [2]))\n",
    "\n",
    "print(result)\n"
   ]
  },
  {
   "cell_type": "code",
   "execution_count": null,
   "metadata": {},
   "outputs": [],
   "source": []
  }
 ],
 "metadata": {
  "kernelspec": {
   "display_name": "pytorch",
   "language": "python",
   "name": "python3"
  },
  "language_info": {
   "codemirror_mode": {
    "name": "ipython",
    "version": 3
   },
   "file_extension": ".py",
   "mimetype": "text/x-python",
   "name": "python",
   "nbconvert_exporter": "python",
   "pygments_lexer": "ipython3",
   "version": "3.10.10"
  }
 },
 "nbformat": 4,
 "nbformat_minor": 2
}
